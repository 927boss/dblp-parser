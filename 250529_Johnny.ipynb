{
  "nbformat": 4,
  "nbformat_minor": 0,
  "metadata": {
    "colab": {
      "provenance": [],
      "authorship_tag": "ABX9TyP8ZI2OFw3pYiyQwBjKrRfa",
      "include_colab_link": true
    },
    "kernelspec": {
      "name": "python3",
      "display_name": "Python 3"
    },
    "language_info": {
      "name": "python"
    }
  },
  "cells": [
    {
      "cell_type": "markdown",
      "metadata": {
        "id": "view-in-github",
        "colab_type": "text"
      },
      "source": [
        "<a href=\"https://colab.research.google.com/github/927boss/dblp-parser/blob/master/250529_Johnny.ipynb\" target=\"_parent\"><img src=\"https://colab.research.google.com/assets/colab-badge.svg\" alt=\"Open In Colab\"/></a>"
      ]
    },
    {
      "cell_type": "markdown",
      "source": [
        "맨 아래 Query에 site를 기입해서 링크를 뽑을 수 있음. - Ver.01 250529 Johnny"
      ],
      "metadata": {
        "id": "C-cwTPNmU4d0"
      }
    },
    {
      "cell_type": "code",
      "execution_count": 3,
      "metadata": {
        "colab": {
          "base_uri": "https://localhost:8080/"
        },
        "id": "zcyLMS7OPo5-",
        "outputId": "2f539b58-dbdf-48df-c248-e42cac10796f"
      },
      "outputs": [
        {
          "output_type": "stream",
          "name": "stdout",
          "text": [
            "Requirement already satisfied: requests in /usr/local/lib/python3.11/dist-packages (2.32.3)\n",
            "Requirement already satisfied: beautifulsoup4 in /usr/local/lib/python3.11/dist-packages (4.13.4)\n",
            "Requirement already satisfied: charset-normalizer<4,>=2 in /usr/local/lib/python3.11/dist-packages (from requests) (3.4.2)\n",
            "Requirement already satisfied: idna<4,>=2.5 in /usr/local/lib/python3.11/dist-packages (from requests) (3.10)\n",
            "Requirement already satisfied: urllib3<3,>=1.21.1 in /usr/local/lib/python3.11/dist-packages (from requests) (2.4.0)\n",
            "Requirement already satisfied: certifi>=2017.4.17 in /usr/local/lib/python3.11/dist-packages (from requests) (2025.4.26)\n",
            "Requirement already satisfied: soupsieve>1.2 in /usr/local/lib/python3.11/dist-packages (from beautifulsoup4) (2.7)\n",
            "Requirement already satisfied: typing-extensions>=4.0.0 in /usr/local/lib/python3.11/dist-packages (from beautifulsoup4) (4.13.2)\n",
            "🔎 검색어: ACL 2025 accepted papers site:cs.stanford.edu\n",
            "🔗 링크 확인 중: https://cs.stanford.edu/~yuhuiz/\n",
            "✅ ACL 2025 관련 언급 발견!\n",
            "🔗 링크 확인 중: https://cs.stanford.edu/~katezhou\n",
            "✅ ACL 2025 관련 언급 발견!\n",
            "🔗 링크 확인 중: https://cs.stanford.edu/~angelx/\n",
            "✅ ACL 2025 관련 언급 발견!\n",
            "🔗 링크 확인 중: https://cs.stanford.edu/~pangwei\n",
            "✅ ACL 2025 관련 언급 발견!\n",
            "🔗 링크 확인 중: https://cs.stanford.edu/~zhihao/\n",
            "🔗 링크 확인 중: https://oval.cs.stanford.edu/publications\n",
            "🔗 링크 확인 중: https://cs.stanford.edu/~cgzhu/\n",
            "🔗 링크 확인 중: https://cs.stanford.edu/~pliang/papers/\n",
            "🔗 링크 확인 중: https://cs.stanford.edu/~wxliang\n",
            "\n",
            "🎯 관련 링크:\n",
            "https://cs.stanford.edu/~yuhuiz/\n",
            "https://cs.stanford.edu/~katezhou\n",
            "https://cs.stanford.edu/~angelx/\n",
            "https://cs.stanford.edu/~pangwei\n"
          ]
        }
      ],
      "source": [
        "# 📌 Colab 기본 준비\n",
        "!pip install requests beautifulsoup4\n",
        "\n",
        "# 🔑 SerpAPI를 사용하기 위한 API Key (직접 입력해야 함, 외부 유출 주의!)\n",
        "SERPAPI_KEY = \"a470f465515e76f4f3d9514970c7b1fdff2729d6e807bbbf6271b2d3041b2644\"\n",
        "\n",
        "import requests\n",
        "from bs4 import BeautifulSoup\n",
        "import time\n",
        "\n",
        "# 🔍 1. SerpAPI를 통해 Google 검색하기\n",
        "def search_google_serpapi(query, num_results=10):\n",
        "    print(f\"🔎 검색어: {query}\")\n",
        "    url = \"https://serpapi.com/search\"\n",
        "    params = {\n",
        "        \"q\": query,\n",
        "        \"api_key\": SERPAPI_KEY,\n",
        "        \"engine\": \"google\",\n",
        "        \"num\": num_results\n",
        "    }\n",
        "    response = requests.get(url, params=params)\n",
        "    if response.status_code != 200:\n",
        "        print(\"❌ SerpAPI 요청 실패:\", response.text)\n",
        "        return []\n",
        "    results = response.json()\n",
        "    return [r['link'] for r in results.get('organic_results', [])]\n",
        "\n",
        "# 🌐 2. 웹페이지 텍스트 가져오기\n",
        "def extract_text_from_url(url):\n",
        "    try:\n",
        "        headers = {'User-Agent': 'Mozilla/5.0'}\n",
        "        res = requests.get(url, headers=headers, timeout=5)\n",
        "        soup = BeautifulSoup(res.text, 'html.parser')\n",
        "        return soup.get_text(separator=' ', strip=True)\n",
        "    except Exception as e:\n",
        "        print(f\"⚠️ {url} 접속 실패: {e}\")\n",
        "        return \"\"\n",
        "\n",
        "# 📄 3. ACL 논문 관련 언급 필터링 (간단한 규칙)\n",
        "def find_acl_paper_mention(text):\n",
        "    return 'ACL 2025' in text and ('accepted' in text or 'paper' in text)\n",
        "\n",
        "# 🚀 4. 전체 크롤링 프로세스\n",
        "def crawl_acl_paper_mentions(query, max_links=10):\n",
        "    links = search_google_serpapi(query, num_results=max_links)\n",
        "    matched_links = []\n",
        "    for link in links:\n",
        "        print(f\"🔗 링크 확인 중: {link}\")\n",
        "        page_text = extract_text_from_url(link)\n",
        "        if find_acl_paper_mention(page_text):\n",
        "            print(\"✅ ACL 2025 관련 언급 발견!\")\n",
        "            matched_links.append(link)\n",
        "        time.sleep(1)  # API 요청 간 시간 간격 두기\n",
        "    return matched_links\n",
        "\n",
        "# 🔍 ACL 2025 논문 관련 내용을 찾고 싶은 경우\n",
        "query = \"ACL 2025 accepted papers site:cs.stanford.edu\"\n",
        "matched_results = crawl_acl_paper_mentions(query, max_links=10)\n",
        "\n",
        "# 📋 결과 출력\n",
        "print(\"\\n🎯 관련 링크:\")\n",
        "for link in matched_results:\n",
        "    print(link)\n"
      ]
    }
  ]
}